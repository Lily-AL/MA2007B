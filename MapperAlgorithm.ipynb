{
  "nbformat": 4,
  "nbformat_minor": 0,
  "metadata": {
    "colab": {
      "provenance": [],
      "authorship_tag": "ABX9TyOv38H8BYIR/EzrC/Z78Ny/",
      "include_colab_link": true
    },
    "kernelspec": {
      "name": "python3",
      "display_name": "Python 3"
    },
    "language_info": {
      "name": "python"
    },
    "widgets": {
      "application/vnd.jupyter.widget-state+json": {
        "6ecf3d1c113f4fbc8ba791c6614ba3f0": {
          "model_module": "@jupyter-widgets/controls",
          "model_name": "HBoxModel",
          "model_module_version": "1.5.0",
          "state": {
            "_dom_classes": [],
            "_model_module": "@jupyter-widgets/controls",
            "_model_module_version": "1.5.0",
            "_model_name": "HBoxModel",
            "_view_count": null,
            "_view_module": "@jupyter-widgets/controls",
            "_view_module_version": "1.5.0",
            "_view_name": "HBoxView",
            "box_style": "",
            "children": [
              "IPY_MODEL_d98801cd12284e8ab7f153571c38fbd4",
              "IPY_MODEL_4f93a74fcb2a499ab55cd2627eaa33be",
              "IPY_MODEL_d6380114542144a0bcbe5d5e78649b06"
            ],
            "layout": "IPY_MODEL_6d7b7001568c4119a33023f8e54bbc8b"
          }
        },
        "d98801cd12284e8ab7f153571c38fbd4": {
          "model_module": "@jupyter-widgets/controls",
          "model_name": "HTMLModel",
          "model_module_version": "1.5.0",
          "state": {
            "_dom_classes": [],
            "_model_module": "@jupyter-widgets/controls",
            "_model_module_version": "1.5.0",
            "_model_name": "HTMLModel",
            "_view_count": null,
            "_view_module": "@jupyter-widgets/controls",
            "_view_module_version": "1.5.0",
            "_view_name": "HTMLView",
            "description": "",
            "description_tooltip": null,
            "layout": "IPY_MODEL_a87f594da4864d8fa76eef2989341321",
            "placeholder": "​",
            "style": "IPY_MODEL_c9c909ebcecf48ac9747bc670159198e",
            "value": "Epochs completed: 100%| "
          }
        },
        "4f93a74fcb2a499ab55cd2627eaa33be": {
          "model_module": "@jupyter-widgets/controls",
          "model_name": "FloatProgressModel",
          "model_module_version": "1.5.0",
          "state": {
            "_dom_classes": [],
            "_model_module": "@jupyter-widgets/controls",
            "_model_module_version": "1.5.0",
            "_model_name": "FloatProgressModel",
            "_view_count": null,
            "_view_module": "@jupyter-widgets/controls",
            "_view_module_version": "1.5.0",
            "_view_name": "ProgressView",
            "bar_style": "success",
            "description": "",
            "description_tooltip": null,
            "layout": "IPY_MODEL_01d6c89f78c7462b8c6ad163c2e51760",
            "max": 500,
            "min": 0,
            "orientation": "horizontal",
            "style": "IPY_MODEL_ff5baccb6e184815b4612a7593e22943",
            "value": 500
          }
        },
        "d6380114542144a0bcbe5d5e78649b06": {
          "model_module": "@jupyter-widgets/controls",
          "model_name": "HTMLModel",
          "model_module_version": "1.5.0",
          "state": {
            "_dom_classes": [],
            "_model_module": "@jupyter-widgets/controls",
            "_model_module_version": "1.5.0",
            "_model_name": "HTMLModel",
            "_view_count": null,
            "_view_module": "@jupyter-widgets/controls",
            "_view_module_version": "1.5.0",
            "_view_name": "HTMLView",
            "description": "",
            "description_tooltip": null,
            "layout": "IPY_MODEL_02402f50792b4baa81c881c787395962",
            "placeholder": "​",
            "style": "IPY_MODEL_439890e826f345c782f7d59eff9bba54",
            "value": " 500/500 [00:01]"
          }
        },
        "6d7b7001568c4119a33023f8e54bbc8b": {
          "model_module": "@jupyter-widgets/base",
          "model_name": "LayoutModel",
          "model_module_version": "1.2.0",
          "state": {
            "_model_module": "@jupyter-widgets/base",
            "_model_module_version": "1.2.0",
            "_model_name": "LayoutModel",
            "_view_count": null,
            "_view_module": "@jupyter-widgets/base",
            "_view_module_version": "1.2.0",
            "_view_name": "LayoutView",
            "align_content": null,
            "align_items": null,
            "align_self": null,
            "border": null,
            "bottom": null,
            "display": null,
            "flex": null,
            "flex_flow": null,
            "grid_area": null,
            "grid_auto_columns": null,
            "grid_auto_flow": null,
            "grid_auto_rows": null,
            "grid_column": null,
            "grid_gap": null,
            "grid_row": null,
            "grid_template_areas": null,
            "grid_template_columns": null,
            "grid_template_rows": null,
            "height": null,
            "justify_content": null,
            "justify_items": null,
            "left": null,
            "margin": null,
            "max_height": null,
            "max_width": null,
            "min_height": null,
            "min_width": null,
            "object_fit": null,
            "object_position": null,
            "order": null,
            "overflow": null,
            "overflow_x": null,
            "overflow_y": null,
            "padding": null,
            "right": null,
            "top": null,
            "visibility": null,
            "width": null
          }
        },
        "a87f594da4864d8fa76eef2989341321": {
          "model_module": "@jupyter-widgets/base",
          "model_name": "LayoutModel",
          "model_module_version": "1.2.0",
          "state": {
            "_model_module": "@jupyter-widgets/base",
            "_model_module_version": "1.2.0",
            "_model_name": "LayoutModel",
            "_view_count": null,
            "_view_module": "@jupyter-widgets/base",
            "_view_module_version": "1.2.0",
            "_view_name": "LayoutView",
            "align_content": null,
            "align_items": null,
            "align_self": null,
            "border": null,
            "bottom": null,
            "display": null,
            "flex": null,
            "flex_flow": null,
            "grid_area": null,
            "grid_auto_columns": null,
            "grid_auto_flow": null,
            "grid_auto_rows": null,
            "grid_column": null,
            "grid_gap": null,
            "grid_row": null,
            "grid_template_areas": null,
            "grid_template_columns": null,
            "grid_template_rows": null,
            "height": null,
            "justify_content": null,
            "justify_items": null,
            "left": null,
            "margin": null,
            "max_height": null,
            "max_width": null,
            "min_height": null,
            "min_width": null,
            "object_fit": null,
            "object_position": null,
            "order": null,
            "overflow": null,
            "overflow_x": null,
            "overflow_y": null,
            "padding": null,
            "right": null,
            "top": null,
            "visibility": null,
            "width": null
          }
        },
        "c9c909ebcecf48ac9747bc670159198e": {
          "model_module": "@jupyter-widgets/controls",
          "model_name": "DescriptionStyleModel",
          "model_module_version": "1.5.0",
          "state": {
            "_model_module": "@jupyter-widgets/controls",
            "_model_module_version": "1.5.0",
            "_model_name": "DescriptionStyleModel",
            "_view_count": null,
            "_view_module": "@jupyter-widgets/base",
            "_view_module_version": "1.2.0",
            "_view_name": "StyleView",
            "description_width": ""
          }
        },
        "01d6c89f78c7462b8c6ad163c2e51760": {
          "model_module": "@jupyter-widgets/base",
          "model_name": "LayoutModel",
          "model_module_version": "1.2.0",
          "state": {
            "_model_module": "@jupyter-widgets/base",
            "_model_module_version": "1.2.0",
            "_model_name": "LayoutModel",
            "_view_count": null,
            "_view_module": "@jupyter-widgets/base",
            "_view_module_version": "1.2.0",
            "_view_name": "LayoutView",
            "align_content": null,
            "align_items": null,
            "align_self": null,
            "border": null,
            "bottom": null,
            "display": null,
            "flex": null,
            "flex_flow": null,
            "grid_area": null,
            "grid_auto_columns": null,
            "grid_auto_flow": null,
            "grid_auto_rows": null,
            "grid_column": null,
            "grid_gap": null,
            "grid_row": null,
            "grid_template_areas": null,
            "grid_template_columns": null,
            "grid_template_rows": null,
            "height": null,
            "justify_content": null,
            "justify_items": null,
            "left": null,
            "margin": null,
            "max_height": null,
            "max_width": null,
            "min_height": null,
            "min_width": null,
            "object_fit": null,
            "object_position": null,
            "order": null,
            "overflow": null,
            "overflow_x": null,
            "overflow_y": null,
            "padding": null,
            "right": null,
            "top": null,
            "visibility": null,
            "width": null
          }
        },
        "ff5baccb6e184815b4612a7593e22943": {
          "model_module": "@jupyter-widgets/controls",
          "model_name": "ProgressStyleModel",
          "model_module_version": "1.5.0",
          "state": {
            "_model_module": "@jupyter-widgets/controls",
            "_model_module_version": "1.5.0",
            "_model_name": "ProgressStyleModel",
            "_view_count": null,
            "_view_module": "@jupyter-widgets/base",
            "_view_module_version": "1.2.0",
            "_view_name": "StyleView",
            "bar_color": null,
            "description_width": ""
          }
        },
        "02402f50792b4baa81c881c787395962": {
          "model_module": "@jupyter-widgets/base",
          "model_name": "LayoutModel",
          "model_module_version": "1.2.0",
          "state": {
            "_model_module": "@jupyter-widgets/base",
            "_model_module_version": "1.2.0",
            "_model_name": "LayoutModel",
            "_view_count": null,
            "_view_module": "@jupyter-widgets/base",
            "_view_module_version": "1.2.0",
            "_view_name": "LayoutView",
            "align_content": null,
            "align_items": null,
            "align_self": null,
            "border": null,
            "bottom": null,
            "display": null,
            "flex": null,
            "flex_flow": null,
            "grid_area": null,
            "grid_auto_columns": null,
            "grid_auto_flow": null,
            "grid_auto_rows": null,
            "grid_column": null,
            "grid_gap": null,
            "grid_row": null,
            "grid_template_areas": null,
            "grid_template_columns": null,
            "grid_template_rows": null,
            "height": null,
            "justify_content": null,
            "justify_items": null,
            "left": null,
            "margin": null,
            "max_height": null,
            "max_width": null,
            "min_height": null,
            "min_width": null,
            "object_fit": null,
            "object_position": null,
            "order": null,
            "overflow": null,
            "overflow_x": null,
            "overflow_y": null,
            "padding": null,
            "right": null,
            "top": null,
            "visibility": null,
            "width": null
          }
        },
        "439890e826f345c782f7d59eff9bba54": {
          "model_module": "@jupyter-widgets/controls",
          "model_name": "DescriptionStyleModel",
          "model_module_version": "1.5.0",
          "state": {
            "_model_module": "@jupyter-widgets/controls",
            "_model_module_version": "1.5.0",
            "_model_name": "DescriptionStyleModel",
            "_view_count": null,
            "_view_module": "@jupyter-widgets/base",
            "_view_module_version": "1.2.0",
            "_view_name": "StyleView",
            "description_width": ""
          }
        }
      }
    }
  },
  "cells": [
    {
      "cell_type": "markdown",
      "metadata": {
        "id": "view-in-github",
        "colab_type": "text"
      },
      "source": [
        "<a href=\"https://colab.research.google.com/github/Lily-AL/MA2007B/blob/main/MapperAlgorithm.ipynb\" target=\"_parent\"><img src=\"https://colab.research.google.com/assets/colab-badge.svg\" alt=\"Open In Colab\"/></a>"
      ]
    },
    {
      "cell_type": "code",
      "source": [
        "#This is a Python implementation of the TDA Mapper algorithm for visualization of high-dimensional data. \n",
        "#For complete documentation, see https://kepler-mapper.scikit-tda.org.\n",
        "pip install kmapper"
      ],
      "metadata": {
        "colab": {
          "base_uri": "https://localhost:8080/"
        },
        "id": "W4jWvWoOASrU",
        "outputId": "27575688-6450-486f-9785-da1bab8bbbf9"
      },
      "execution_count": 3,
      "outputs": [
        {
          "output_type": "stream",
          "name": "stdout",
          "text": [
            "Looking in indexes: https://pypi.org/simple, https://us-python.pkg.dev/colab-wheels/public/simple/\n",
            "Collecting kmapper\n",
            "  Downloading kmapper-2.0.1-py3-none-any.whl (125 kB)\n",
            "\u001b[?25l     \u001b[90m━━━━━━━━━━━━━━━━━━━━━━━━━━━━━━━━━━━━━━━━\u001b[0m \u001b[32m0.0/126.0 kB\u001b[0m \u001b[31m?\u001b[0m eta \u001b[36m-:--:--\u001b[0m\r\u001b[2K     \u001b[90m━━━━━━━━━━━━━━━━━━━━━━━━━━━━━━━━━━━━━━\u001b[0m \u001b[32m126.0/126.0 kB\u001b[0m \u001b[31m12.4 MB/s\u001b[0m eta \u001b[36m0:00:00\u001b[0m\n",
            "\u001b[?25hRequirement already satisfied: scipy in /usr/local/lib/python3.10/dist-packages (from kmapper) (1.10.1)\n",
            "Requirement already satisfied: scikit-learn in /usr/local/lib/python3.10/dist-packages (from kmapper) (1.2.2)\n",
            "Requirement already satisfied: numpy in /usr/local/lib/python3.10/dist-packages (from kmapper) (1.22.4)\n",
            "Requirement already satisfied: Jinja2 in /usr/local/lib/python3.10/dist-packages (from kmapper) (3.1.2)\n",
            "Requirement already satisfied: MarkupSafe>=2.0 in /usr/local/lib/python3.10/dist-packages (from Jinja2->kmapper) (2.1.2)\n",
            "Requirement already satisfied: joblib>=1.1.1 in /usr/local/lib/python3.10/dist-packages (from scikit-learn->kmapper) (1.2.0)\n",
            "Requirement already satisfied: threadpoolctl>=2.0.0 in /usr/local/lib/python3.10/dist-packages (from scikit-learn->kmapper) (3.1.0)\n",
            "Installing collected packages: kmapper\n",
            "Successfully installed kmapper-2.0.1\n"
          ]
        }
      ]
    },
    {
      "cell_type": "code",
      "source": [
        "#Uniform Manifold Approximation and Projection for Dimension Reduction\n",
        "#https://umap-learn.readthedocs.io/en/latest/\n",
        "!pip install umap-learn"
      ],
      "metadata": {
        "colab": {
          "base_uri": "https://localhost:8080/"
        },
        "id": "IyHRu6DxA7s3",
        "outputId": "70266ebd-8f7f-4714-90e3-0554dc9975cd"
      },
      "execution_count": 6,
      "outputs": [
        {
          "output_type": "stream",
          "name": "stdout",
          "text": [
            "Looking in indexes: https://pypi.org/simple, https://us-python.pkg.dev/colab-wheels/public/simple/\n",
            "Collecting umap-learn\n",
            "  Downloading umap-learn-0.5.3.tar.gz (88 kB)\n",
            "\u001b[2K     \u001b[90m━━━━━━━━━━━━━━━━━━━━━━━━━━━━━━━━━━━━━━━━\u001b[0m \u001b[32m88.2/88.2 kB\u001b[0m \u001b[31m5.4 MB/s\u001b[0m eta \u001b[36m0:00:00\u001b[0m\n",
            "\u001b[?25h  Preparing metadata (setup.py) ... \u001b[?25l\u001b[?25hdone\n",
            "Requirement already satisfied: numpy>=1.17 in /usr/local/lib/python3.10/dist-packages (from umap-learn) (1.22.4)\n",
            "Requirement already satisfied: scikit-learn>=0.22 in /usr/local/lib/python3.10/dist-packages (from umap-learn) (1.2.2)\n",
            "Requirement already satisfied: scipy>=1.0 in /usr/local/lib/python3.10/dist-packages (from umap-learn) (1.10.1)\n",
            "Requirement already satisfied: numba>=0.49 in /usr/local/lib/python3.10/dist-packages (from umap-learn) (0.56.4)\n",
            "Collecting pynndescent>=0.5\n",
            "  Downloading pynndescent-0.5.10.tar.gz (1.1 MB)\n",
            "\u001b[2K     \u001b[90m━━━━━━━━━━━━━━━━━━━━━━━━━━━━━━━━━━━━━━━━\u001b[0m \u001b[32m1.1/1.1 MB\u001b[0m \u001b[31m71.4 MB/s\u001b[0m eta \u001b[36m0:00:00\u001b[0m\n",
            "\u001b[?25h  Preparing metadata (setup.py) ... \u001b[?25l\u001b[?25hdone\n",
            "Requirement already satisfied: tqdm in /usr/local/lib/python3.10/dist-packages (from umap-learn) (4.65.0)\n",
            "Requirement already satisfied: setuptools in /usr/local/lib/python3.10/dist-packages (from numba>=0.49->umap-learn) (67.7.2)\n",
            "Requirement already satisfied: llvmlite<0.40,>=0.39.0dev0 in /usr/local/lib/python3.10/dist-packages (from numba>=0.49->umap-learn) (0.39.1)\n",
            "Requirement already satisfied: joblib>=0.11 in /usr/local/lib/python3.10/dist-packages (from pynndescent>=0.5->umap-learn) (1.2.0)\n",
            "Requirement already satisfied: threadpoolctl>=2.0.0 in /usr/local/lib/python3.10/dist-packages (from scikit-learn>=0.22->umap-learn) (3.1.0)\n",
            "Building wheels for collected packages: umap-learn, pynndescent\n",
            "  Building wheel for umap-learn (setup.py) ... \u001b[?25l\u001b[?25hdone\n",
            "  Created wheel for umap-learn: filename=umap_learn-0.5.3-py3-none-any.whl size=82830 sha256=a5fa004c335e40464001cef35c0e37b4efd33fef52ee97d45b8505f684d61601\n",
            "  Stored in directory: /root/.cache/pip/wheels/a0/e8/c6/a37ea663620bd5200ea1ba0907ab3c217042c1d035ef606acc\n",
            "  Building wheel for pynndescent (setup.py) ... \u001b[?25l\u001b[?25hdone\n",
            "  Created wheel for pynndescent: filename=pynndescent-0.5.10-py3-none-any.whl size=55640 sha256=25f36085335b6662ce546154d468837afbe93b7a9d9038e31e00eae74dc1d3a2\n",
            "  Stored in directory: /root/.cache/pip/wheels/4a/38/5d/f60a40a66a9512b7e5e83517ebc2d1b42d857be97d135f1096\n",
            "Successfully built umap-learn pynndescent\n",
            "Installing collected packages: pynndescent, umap-learn\n",
            "Successfully installed pynndescent-0.5.10 umap-learn-0.5.3\n"
          ]
        }
      ]
    },
    {
      "cell_type": "code",
      "execution_count": 19,
      "metadata": {
        "id": "IbGJNSmSACEz"
      },
      "outputs": [],
      "source": [
        "import yfinance as yf\n",
        "import kmapper as km\n",
        "from kmapper.jupyter import display\n",
        "import umap #Uniform Manifold Approximation and Projection for Dimension Reduction\n",
        "import sklearn\n",
        "import sklearn.manifold as manifold #https://scikit-learn.org/stable/modules/manifold.html\n",
        "import matplotlib.pyplot as plt\n",
        "import numpy as np\n",
        "\n"
      ]
    },
    {
      "cell_type": "markdown",
      "source": [
        "El índice Standard & Poor's 500 (Standard & Poor's 500 Index), también conocido como S&P 500, es uno de los índices bursátiles más importantes de Estados Unidos. Al S&P 500 se lo considera el índice más representativo de la situación real del mercado. Se trabajará un archivo de ticketmaster.\n"
      ],
      "metadata": {
        "id": "BIbUoQD9IKwo"
      }
    },
    {
      "cell_type": "markdown",
      "source": [
        "# `Obtengamos los datos`"
      ],
      "metadata": {
        "id": "v9D4hlJNLNjB"
      }
    },
    {
      "cell_type": "code",
      "source": [
        "from google.colab import drive \n",
        "drive.mount('/content/gdrive')"
      ],
      "metadata": {
        "colab": {
          "base_uri": "https://localhost:8080/"
        },
        "id": "NEli-SqYITti",
        "outputId": "76258804-87f0-4936-e0cf-677bd4395712"
      },
      "execution_count": 8,
      "outputs": [
        {
          "output_type": "stream",
          "name": "stdout",
          "text": [
            "Mounted at /content/gdrive\n"
          ]
        }
      ]
    },
    {
      "cell_type": "code",
      "source": [
        "# Leer el archivo\n",
        "filename = open(\"/content/gdrive/MyDrive/Colab Notebooks/SP500_tickernames.txt\", \"r\")\n",
        "raw_tickernames = filename.read()\n",
        "ticker_names = raw_tickernames.split(\"\\n\")\n",
        "ticker_names = ticker_names[:len(ticker_names)-1]"
      ],
      "metadata": {
        "id": "6kxKDRhlJk0Z"
      },
      "execution_count": 10,
      "outputs": []
    },
    {
      "cell_type": "code",
      "source": [
        "# Definir el rango de fechas\n",
        "start_date_string = \"2020-01-01\"\n",
        "end_date_string = \"2022-04-02\"\n",
        "\n",
        "# Obtengamos los datos históricos\n",
        "raw_data = yf.download(ticker_names, start=start_date_string, end=end_date_string)"
      ],
      "metadata": {
        "colab": {
          "base_uri": "https://localhost:8080/"
        },
        "id": "bLi36aBHKRDZ",
        "outputId": "47bebe01-2f3e-4f8e-85e0-1ee2e276b557"
      },
      "execution_count": 14,
      "outputs": [
        {
          "output_type": "stream",
          "name": "stdout",
          "text": [
            "[*********************100%***********************]  495 of 495 completed\n",
            "\n",
            "16 Failed downloads:\n",
            "- FB: No timezone found, symbol may be delisted\n",
            "- NLSN: No timezone found, symbol may be delisted\n",
            "- VIAC: No timezone found, symbol may be delisted\n",
            "- ANTM: No timezone found, symbol may be delisted\n",
            "- BLL: No timezone found, symbol may be delisted\n",
            "- INFO: No timezone found, symbol may be delisted\n",
            "- XLNX: No timezone found, symbol may be delisted\n",
            "- DISCK: No timezone found, symbol may be delisted\n",
            "- PBCT: No timezone found, symbol may be delisted\n",
            "- DISCA: No timezone found, symbol may be delisted\n",
            "- CTXS: No timezone found, symbol may be delisted\n",
            "- CERN: No timezone found, symbol may be delisted\n",
            "- DRE: No timezone found, symbol may be delisted\n",
            "- NLOK: No timezone found, symbol may be delisted\n",
            "- FBHS: No timezone found, symbol may be delisted\n",
            "- TWTR: No timezone found, symbol may be delisted\n"
          ]
        }
      ]
    },
    {
      "cell_type": "code",
      "source": [
        "# obtenga precios de cierre diarios y elimine las columnas que faltan\n",
        "df_close = raw_data['Adj Close'].dropna(axis='columns')"
      ],
      "metadata": {
        "id": "YoONDUb9Kh7X"
      },
      "execution_count": 15,
      "outputs": []
    },
    {
      "cell_type": "code",
      "source": [
        "# convierta pandas dataframe a numpy array, estandaricemos los datos y transpongamos el array\n",
        "data = df_close.to_numpy()\n",
        "data = data-np.mean(data, axis=0)/np.std(data, axis=0)\n",
        "data = data.transpose()"
      ],
      "metadata": {
        "colab": {
          "base_uri": "https://localhost:8080/"
        },
        "id": "OU5-BDrfL_qD",
        "outputId": "54df89cf-a699-4ec0-abba-75749127b177"
      },
      "execution_count": 31,
      "outputs": [
        {
          "output_type": "execute_result",
          "data": {
            "text/plain": [
              "(479, 568)"
            ]
          },
          "metadata": {},
          "execution_count": 31
        }
      ]
    },
    {
      "cell_type": "code",
      "source": [
        "# calcula el porcentaje de retorno (de la inversión) de cada ticker sobre el rango de fechas\n",
        "per_return = (df_close.to_numpy().transpose()[:,504] - df_close.to_numpy().transpose()[:,0])/df_close.to_numpy().transpose()[:,0]"
      ],
      "metadata": {
        "id": "Obu4yz5oManE"
      },
      "execution_count": 28,
      "outputs": []
    },
    {
      "cell_type": "markdown",
      "source": [
        "# Aplicando el algoritmo mapper\n"
      ],
      "metadata": {
        "id": "02NgzuLhNj4Z"
      }
    },
    {
      "cell_type": "code",
      "source": [
        "# initializa mapper\n",
        "mapper = km.KeplerMapper(verbose=1)"
      ],
      "metadata": {
        "colab": {
          "base_uri": "https://localhost:8080/"
        },
        "id": "U1iitkGENqtK",
        "outputId": "aa305e50-6a97-4421-e181-2a4d28562b0a"
      },
      "execution_count": 29,
      "outputs": [
        {
          "output_type": "stream",
          "name": "stdout",
          "text": [
            "KeplerMapper(verbose=1)\n"
          ]
        }
      ]
    },
    {
      "cell_type": "code",
      "source": [
        "# proyecta los datos a dos dimensiones usando dos transformaciones:\n",
        "# Coordenada 1 isomap https://en.wikipedia.org/wiki/Isomap\n",
        "# Coordenada 2 UMAP https://arxiv.org/abs/1802.03426\n",
        "projected_data = mapper.fit_transform(data, projection=[manifold.Isomap(n_components=100, n_jobs=-1), umap.UMAP(n_components=2,random_state=1)])\n"
      ],
      "metadata": {
        "colab": {
          "base_uri": "https://localhost:8080/",
          "height": 585,
          "referenced_widgets": [
            "6ecf3d1c113f4fbc8ba791c6614ba3f0",
            "d98801cd12284e8ab7f153571c38fbd4",
            "4f93a74fcb2a499ab55cd2627eaa33be",
            "d6380114542144a0bcbe5d5e78649b06",
            "6d7b7001568c4119a33023f8e54bbc8b",
            "a87f594da4864d8fa76eef2989341321",
            "c9c909ebcecf48ac9747bc670159198e",
            "01d6c89f78c7462b8c6ad163c2e51760",
            "ff5baccb6e184815b4612a7593e22943",
            "02402f50792b4baa81c881c787395962",
            "439890e826f345c782f7d59eff9bba54"
          ]
        },
        "id": "y30AeYtHOaVC",
        "outputId": "416e1908-9a6a-48e7-b6e8-22e2fa568480"
      },
      "execution_count": 33,
      "outputs": [
        {
          "output_type": "stream",
          "name": "stdout",
          "text": [
            "..Composing projection pipeline of length 2:\n",
            "\tProjections: Isomap(n_components=100, n_jobs=-1)\n",
            "\t\tUMAP(random_state=1)\n",
            "\tDistance matrices: False\n",
            "False\n",
            "\tScalers: MinMaxScaler()\n",
            "MinMaxScaler()\n",
            "..Projecting on data shaped (479, 568)\n",
            "\n",
            "..Projecting data using: \n",
            "\tIsomap(n_components=100, n_jobs=-1)\n",
            "\n",
            "\n",
            "..Scaling with: MinMaxScaler()\n",
            "\n",
            "..Projecting on data shaped (479, 100)\n",
            "\n",
            "..Projecting data using: \n",
            "\tUMAP(random_state=1, verbose=1)\n",
            "\n",
            "UMAP(random_state=1, verbose=1)\n",
            "Mon May  1 16:56:58 2023 Construct fuzzy simplicial set\n",
            "Mon May  1 16:56:58 2023 Finding Nearest Neighbors\n",
            "Mon May  1 16:56:58 2023 Finished Nearest Neighbor Search\n",
            "Mon May  1 16:56:58 2023 Construct embedding\n"
          ]
        },
        {
          "output_type": "display_data",
          "data": {
            "text/plain": [
              "Epochs completed:   0%|            0/500 [00:00]"
            ],
            "application/vnd.jupyter.widget-view+json": {
              "version_major": 2,
              "version_minor": 0,
              "model_id": "6ecf3d1c113f4fbc8ba791c6614ba3f0"
            }
          },
          "metadata": {}
        },
        {
          "output_type": "stream",
          "name": "stdout",
          "text": [
            "Mon May  1 16:57:00 2023 Finished embedding\n",
            "\n",
            "..Scaling with: MinMaxScaler()\n",
            "\n"
          ]
        },
        {
          "output_type": "execute_result",
          "data": {
            "text/plain": [
              "(479, 2)"
            ]
          },
          "metadata": {},
          "execution_count": 33
        }
      ]
    },
    {
      "cell_type": "code",
      "source": [
        "# clusterizar los datos using DBSCAN\n",
        "# Checar los distintos métodos de clusterización https://scikit-learn.org/stable/modules/clustering.html\n",
        "G = mapper.map(projected_data, data, clusterer=sklearn.cluster.DBSCAN(metric=\"cosine\"))"
      ],
      "metadata": {
        "colab": {
          "base_uri": "https://localhost:8080/"
        },
        "id": "Xw9qEMctQ42c",
        "outputId": "d4557cbd-39c8-4fbf-d181-d959241582c1"
      },
      "execution_count": 34,
      "outputs": [
        {
          "output_type": "stream",
          "name": "stdout",
          "text": [
            "Mapping on data shaped (479, 568) using lens shaped (479, 2)\n",
            "\n",
            "Creating 100 hypercubes.\n",
            "\n",
            "Created 21 edges and 12 nodes in 0:00:00.034402.\n"
          ]
        }
      ]
    },
    {
      "cell_type": "code",
      "source": [],
      "metadata": {
        "id": "8LTD-FHHYUd2"
      },
      "execution_count": null,
      "outputs": []
    },
    {
      "cell_type": "code",
      "source": [
        "#definir un nombre de archivo para guardar los parámetros de Mapper\n",
        "fileID = 'projection=' + G['meta_data']['projection'].split('(')[0] + '_' + \\\n",
        "'n_cubes=' + str(G['meta_data']['n_cubes']) + '_' + \\\n",
        "'perc_overlap=' + str(G['meta_data']['perc_overlap']) + '_' + \\\n",
        "'clusterer=' + G['meta_data']['clusterer'].split('(')[0] + '_' + \\\n",
        "'scaler=' + G['meta_data']['scaler'].split('(')[0]\n"
      ],
      "metadata": {
        "colab": {
          "base_uri": "https://localhost:8080/",
          "height": 35
        },
        "id": "ZOyNms00TKx_",
        "outputId": "2543a87f-5f4f-4d7f-f07e-f2341bd70550"
      },
      "execution_count": 40,
      "outputs": [
        {
          "output_type": "execute_result",
          "data": {
            "text/plain": [
              "\"DBSCAN(metric='cosine')\""
            ],
            "application/vnd.google.colaboratory.intrinsic+json": {
              "type": "string"
            }
          },
          "metadata": {},
          "execution_count": 40
        }
      ]
    },
    {
      "cell_type": "code",
      "source": [
        "#Visualicemos la gráfica\n",
        "mapper.visualize(G \n",
        "                )\n",
        "\n",
        "km.jupyter.display(\"mapper_example\"+fileID+\".html\")"
      ],
      "metadata": {
        "colab": {
          "base_uri": "https://localhost:8080/",
          "height": 894
        },
        "id": "v8XdVYttUTkp",
        "outputId": "27c23c4e-d841-4f8a-9e1e-5e84347120c2"
      },
      "execution_count": 52,
      "outputs": [
        {
          "output_type": "stream",
          "name": "stdout",
          "text": [
            "Wrote visualization to: mapper_visualization_output.html\n"
          ]
        },
        {
          "output_type": "display_data",
          "data": {
            "text/plain": [
              "<IPython.core.display.HTML object>"
            ],
            "text/html": [
              "<style>\n",
              "        .container { width:100% !important; }\n",
              "        .output_scroll {height: 800px !important;}\n",
              "        </style>"
            ]
          },
          "metadata": {}
        },
        {
          "output_type": "stream",
          "name": "stderr",
          "text": [
            "/usr/local/lib/python3.10/dist-packages/IPython/core/display.py:724: UserWarning: Consider using IPython.display.IFrame instead\n",
            "  warnings.warn(\"Consider using IPython.display.IFrame instead\")\n"
          ]
        },
        {
          "output_type": "display_data",
          "data": {
            "text/plain": [
              "<IPython.core.display.HTML object>"
            ],
            "text/html": [
              "<iframe src=/content/gdrive/MyDrive/Colab Notebooks/mapper_exampleprojection=UMAP_n_cubes=10_perc_overlap=0.1_clusterer=DBSCAN_scaler=MinMaxScaler.html width=100%% height=800 frameBorder=\"0\"></iframe>"
            ]
          },
          "metadata": {}
        }
      ]
    }
  ]
}